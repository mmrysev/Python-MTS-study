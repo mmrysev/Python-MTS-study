{
 "cells": [
  {
   "cell_type": "code",
   "execution_count": 563,
   "metadata": {
    "collapsed": true
   },
   "outputs": [],
   "source": [
    "def createFile(fileName, fileText=\"\"\"123\n",
    "4567\n",
    "8910\"\"\"):\n",
    "    with open(fileName, 'w') as f:\n",
    "        f.write(fileText)\n",
    "        \n",
    "def createFolder(fileName):\n",
    "    folder = os.path.dirname(fileName)\n",
    "    if folder and not os.path.exists(folder):\n",
    "        os.makedirs(folder)\n",
    "    return"
   ]
  },
  {
   "cell_type": "code",
   "execution_count": 564,
   "metadata": {
    "collapsed": true
   },
   "outputs": [],
   "source": [
    "import os\n",
    "import re\n",
    "import collections\n",
    "import chardet\n",
    "import shutil\n",
    "import random\n",
    "import itertools"
   ]
  },
  {
   "cell_type": "markdown",
   "metadata": {},
   "source": [
    "# Базовый уровень"
   ]
  },
  {
   "cell_type": "markdown",
   "metadata": {},
   "source": [
    "## Задание 1.1"
   ]
  },
  {
   "cell_type": "code",
   "execution_count": 565,
   "metadata": {
    "collapsed": true
   },
   "outputs": [],
   "source": [
    "def copy_file(source_path, target_path):\n",
    "    folder = os.path.dirname(target_path)\n",
    "    if folder and not os.path.exists(folder):\n",
    "        os.makedirs(folder)\n",
    "    \n",
    "    with open(source_path, 'r') as fi:\n",
    "        with open(target_path, 'w') as fo:\n",
    "            fo.write(fi.read())\n",
    "\n",
    "    return"
   ]
  },
  {
   "cell_type": "code",
   "execution_count": 566,
   "metadata": {
    "collapsed": true
   },
   "outputs": [],
   "source": [
    "def copy_big_file(source_path, target_path):\n",
    "    createFolder(target_path)\n",
    "    \n",
    "    with open(source_path, 'r') as fi, open(target_path, 'w') as fo:\n",
    "            fo.writelines(line for line in fi.xreadlines())\n",
    "   \n",
    "    return"
   ]
  },
  {
   "cell_type": "code",
   "execution_count": 567,
   "metadata": {
    "collapsed": false
   },
   "outputs": [
    {
     "name": "stdout",
     "output_type": "stream",
     "text": [
      "\n",
      "Исходный файл:  file_in.txt\n",
      "123\n",
      "4567\n",
      "8910\n",
      "\n",
      "Скопированный файл:  A/B/out.txt\n",
      "123\n",
      "4567\n",
      "8910\n",
      "\n",
      "Скопированный файл (построчно):  A/B/out_big.txt\n",
      "123\n",
      "4567\n",
      "8910\n"
     ]
    }
   ],
   "source": [
    "inputFile = \"file_in.txt\"\n",
    "outputFile = os.path.join(\"A\",\"B\",\"out.txt\")\n",
    "\n",
    "createFile(inputFile)\n",
    "\n",
    "print \"\\nИсходный файл: \", inputFile\n",
    "with open(inputFile, 'r') as f:\n",
    "    print f.read()\n",
    "\n",
    "copy_file(inputFile, outputFile )\n",
    "\n",
    "print \"\\nСкопированный файл: \", outputFile\n",
    "with open(outputFile, 'r') as f:\n",
    "    print f.read()\n",
    "\n",
    "outputFile = os.path.join(\"A\",\"B\",\"out_big.txt\")\n",
    "copy_big_file(inputFile, outputFile)\n",
    "\n",
    "print \"\\nСкопированный файл (построчно): \", outputFile\n",
    "with open(outputFile, 'r') as f:\n",
    "    print f.read()"
   ]
  },
  {
   "cell_type": "markdown",
   "metadata": {},
   "source": [
    "## Задание 1.2"
   ]
  },
  {
   "cell_type": "code",
   "execution_count": 568,
   "metadata": {
    "collapsed": false
   },
   "outputs": [],
   "source": [
    "def eng_lat_2_lat_eng(source_path, target_path):\n",
    "    createFolder(target_path)\n",
    "    \n",
    "    ddict = collections.defaultdict(list)\n",
    "    \n",
    "    with open(source_path, \"r\") as fi:\n",
    "        for line in fi.xreadlines():\n",
    "            words = re.split(\"[-,]\",line)\n",
    "            for lat in words[1:]:\n",
    "                ddict[lat.strip()].append(words[0].strip())\n",
    "            \n",
    "    with open(target_path, \"w\") as fo:\n",
    "        for word in sorted(ddict.keys()):\n",
    "            fo.write(word + ' - ' + ', '.join(sorted(ddict[word]))+\"\\n\")\n",
    "            \n",
    "    return"
   ]
  },
  {
   "cell_type": "code",
   "execution_count": 569,
   "metadata": {
    "collapsed": false
   },
   "outputs": [
    {
     "name": "stdout",
     "output_type": "stream",
     "text": [
      "Латино-английский словарь:\n",
      "baca - fruit\n",
      "bacca - fruit\n",
      "malum - apple, punishment\n",
      "multa - punishment\n",
      "pomum - apple\n",
      "popula - apple\n",
      "popum - fruit\n",
      "\n"
     ]
    }
   ],
   "source": [
    "inputFile = \"file_in.txt\"\n",
    "outputFile = os.path.join(\"out.txt\")\n",
    "\n",
    "createFile(inputFile,\"\"\"apple - malum, pomum, popula\n",
    "fruit - baca, bacca, popum\n",
    "punishment - malum, multa\"\"\")\n",
    "\n",
    "eng_lat_2_lat_eng(inputFile, outputFile)\n",
    "\n",
    "print(\"Латино-английский словарь:\")\n",
    "with open(outputFile, \"r\") as f:\n",
    "    print(f.read())"
   ]
  },
  {
   "cell_type": "markdown",
   "metadata": {},
   "source": [
    "## Задание 1.3"
   ]
  },
  {
   "cell_type": "code",
   "execution_count": 570,
   "metadata": {
    "collapsed": true
   },
   "outputs": [],
   "source": [
    "def my_len(word, encoding=None):\n",
    "    if type(word) is unicode:\n",
    "        return len(word)\n",
    "    \n",
    "    if encoding==None:\n",
    "        encoding=chardet.detect(word)['encoding']\n",
    "    \n",
    "    return len(word.decode(encoding))"
   ]
  },
  {
   "cell_type": "code",
   "execution_count": 571,
   "metadata": {
    "collapsed": false
   },
   "outputs": [
    {
     "data": {
      "text/plain": [
       "True"
      ]
     },
     "execution_count": 571,
     "metadata": {},
     "output_type": "execute_result"
    }
   ],
   "source": [
    "my_len('текст') == 5"
   ]
  },
  {
   "cell_type": "code",
   "execution_count": 572,
   "metadata": {
    "collapsed": false
   },
   "outputs": [
    {
     "data": {
      "text/plain": [
       "True"
      ]
     },
     "execution_count": 572,
     "metadata": {},
     "output_type": "execute_result"
    }
   ],
   "source": [
    "my_len(u'текст') == 5"
   ]
  },
  {
   "cell_type": "code",
   "execution_count": 328,
   "metadata": {
    "collapsed": false
   },
   "outputs": [
    {
     "data": {
      "text/plain": [
       "True"
      ]
     },
     "execution_count": 328,
     "metadata": {},
     "output_type": "execute_result"
    }
   ],
   "source": [
    "my_len(u'ааааа'.encode('utf_16'), encoding='utf_16') == 5"
   ]
  },
  {
   "cell_type": "code",
   "execution_count": 573,
   "metadata": {
    "collapsed": false
   },
   "outputs": [
    {
     "data": {
      "text/plain": [
       "True"
      ]
     },
     "execution_count": 573,
     "metadata": {},
     "output_type": "execute_result"
    }
   ],
   "source": [
    "my_len(u'текст'.encode('windows-1251')) == 5"
   ]
  },
  {
   "cell_type": "markdown",
   "metadata": {},
   "source": [
    "# Продвинутый уровень\n"
   ]
  },
  {
   "cell_type": "markdown",
   "metadata": {},
   "source": [
    "## Задание 2.1"
   ]
  },
  {
   "cell_type": "code",
   "execution_count": 574,
   "metadata": {
    "collapsed": false
   },
   "outputs": [],
   "source": [
    "def get_dir_content_info(dir_path):\n",
    "    file_list = os.listdir(dir_path)\n",
    "    \n",
    "    res = [(name, os.stat(os.path.join(dir_path,name)).st_size) \n",
    "            for name in os.listdir(dir_path) if os.path.isfile(os.path.join(dir_path,name))]\n",
    "    \n",
    "    return sorted(res, key=lambda x: (-x[1], x[0]) )"
   ]
  },
  {
   "cell_type": "code",
   "execution_count": 575,
   "metadata": {
    "collapsed": false
   },
   "outputs": [
    {
     "name": "stdout",
     "output_type": "stream",
     "text": [
      "[('C.txt', 30), ('F.txt', 30), ('B.txt', 20), ('E.txt', 20), ('H.txt', 20), ('A.txt', 10), ('D.txt', 10), ('G.txt', 10)]\n"
     ]
    }
   ],
   "source": [
    "#Создание тестовых файлов\n",
    "folder = \"Files to sort\"\n",
    "if os.path.exists(folder):\n",
    "    shutil.rmtree(folder)\n",
    "os.makedirs(folder)\n",
    "    \n",
    "for i,x in enumerate(\"ABCDEFGH\"):\n",
    "    createFile(os.path.join(folder,x+\".txt\"),\"\".join([x*int(i%3*10+10)]))\n",
    "\n",
    "#Получить отсортированный список файлов\n",
    "print get_dir_content_info(folder)"
   ]
  },
  {
   "cell_type": "markdown",
   "metadata": {},
   "source": [
    "## Задание 2.2"
   ]
  },
  {
   "cell_type": "code",
   "execution_count": 576,
   "metadata": {
    "collapsed": false
   },
   "outputs": [],
   "source": [
    "def eng_rus_2_rus_eng(source_path, target_path, encoding=None):\n",
    "    createFolder(target_path)\n",
    "    \n",
    "    ddict = collections.defaultdict(list)\n",
    "    \n",
    "    with open(source_path, \"r\") as fi:\n",
    "        text=fi.read()\n",
    "        \n",
    "    if encoding==None:\n",
    "        encoding=chardet.detect(text)['encoding']\n",
    "        print \"Определна кодировка:{}\".format(encoding)\n",
    "    \n",
    "    lines=text.decode(encoding).splitlines()\n",
    "\n",
    "    for line in lines:\n",
    "        words = re.split(\"[-,]\",line)\n",
    "        for lat in words[1:]:\n",
    "            ddict[lat.strip()].append(words[0].strip())\n",
    "    \n",
    "    #Результат всегда кодируется в windows-1251\n",
    "    with open(target_path, \"w\") as fo:\n",
    "        for word in sorted(ddict.keys()):\n",
    "            r = word + u' - ' + u', '.join(sorted(ddict[word])) + u'\\n'\n",
    "            fo.write(r.encode('windows-1251') )\n",
    "            \n",
    "    return"
   ]
  },
  {
   "cell_type": "code",
   "execution_count": 577,
   "metadata": {
    "collapsed": false
   },
   "outputs": [
    {
     "name": "stdout",
     "output_type": "stream",
     "text": [
      "Русско-английский словарь (кодировка задана):\n",
      "кот - cat\n",
      "кошка - cat, grapnel\n",
      "яблоко - apple\n",
      "яблоня - apple\n",
      "\n",
      "Определна кодировка:IBM866\n",
      "Русско-английский словарь (автоопредеоение кодировки):\n",
      "кот - cat\n",
      "кошка - cat, grapnel\n",
      "яблоко - apple\n",
      "яблоня - apple\n",
      "\n"
     ]
    }
   ],
   "source": [
    "inputFile = \"file_in.txt\"\n",
    "outputFile = os.path.join(\"out.txt\")\n",
    "encoding = \"cp866\"\n",
    "\n",
    "createFile(inputFile,u\"\"\"apple - яблоко, яблоня\n",
    "cat - кот, кошка\n",
    "grapnel - кошка\"\"\".encode(encoding) )\n",
    "\n",
    "eng_rus_2_rus_eng(inputFile, outputFile, encoding)\n",
    "print(\"Русско-английский словарь (кодировка задана):\")\n",
    "with open(outputFile, \"r\") as f:\n",
    "    print(f.read().decode(\"windows-1251\"))\n",
    "    \n",
    "eng_rus_2_rus_eng(inputFile, outputFile)\n",
    "print(\"Русско-английский словарь (автоопредеоение кодировки):\")\n",
    "with open(outputFile, \"r\") as f:\n",
    "    print(f.read().decode(\"windows-1251\"))"
   ]
  },
  {
   "cell_type": "markdown",
   "metadata": {},
   "source": [
    "# Сложный уровень"
   ]
  },
  {
   "cell_type": "markdown",
   "metadata": {},
   "source": [
    "## Задание 3.1"
   ]
  },
  {
   "cell_type": "code",
   "execution_count": 578,
   "metadata": {
    "collapsed": false
   },
   "outputs": [],
   "source": [
    "def sorted_word(word):\n",
    "    if len(word)>3:\n",
    "        return word[0]+\"\".join(sorted(word[1:-1]))+word[-1]\n",
    "    else:\n",
    "        return word\n",
    "    \n",
    "def random_word(word):\n",
    "    if len(word)>3:\n",
    "        mid = list(word[1:-1])\n",
    "        random.shuffle(mid)\n",
    "        return word[0]+\"\".join(mid)+word[-1]\n",
    "    else:\n",
    "        return word\n",
    "\n",
    "def text_shuffle(text, seed=None):\n",
    "    template = re.compile(u\"[а-яА-Я]+|[a-zA-Z]+\")\n",
    "    words = re.findall(template,text)\n",
    "    \n",
    "    if seed==None:\n",
    "        words = map(sorted_word, words)\n",
    "    else:\n",
    "        random.seed(seed)\n",
    "        words = map(random_word, words)\n",
    "        \n",
    "    return \" \".join(words)"
   ]
  },
  {
   "cell_type": "code",
   "execution_count": 579,
   "metadata": {
    "collapsed": false
   },
   "outputs": [
    {
     "name": "stdout",
     "output_type": "stream",
     "text": [
      "вам пбееорсттуя мдлоуь radnom и фикнуци radnom seed и radnom sffhlue\n",
      "вам простетбеуя мдлоуь rnadom и фцункии raondm seed и rondam sufhfle\n",
      "вам побертетуся мдлоуь rndaom и фцкунии rdanom seed и rdanom sulfhfe\n",
      "вам простетбеуя мдлоуь rnadom и фцункии raondm seed и rondam sufhfle\n",
      "\n",
      "На не юникодовских строчках модуль re с шаблоном unicode корректно находит только слова из английских букв, так как коды английских символов в unicode и ASCII совпадают:\n",
      "radnom radnom seed radnom sffhlue\n",
      "\n",
      "При строковом шаблоне с русскими буквами модуль re работает некорректно из-за ошибок определния символов в потоке байт:\n",
      "вам,по�,�,еб�,е�,�,я,мод�,л�,random,и,�,�,нк�,ии,random,seed,и,random,shuffle\n",
      "\n",
      "При перекодировке строки в unicode получается требуемый результат:\n",
      "вам пбееорсттуя мдлоуь radnom и фикнуци radnom seed и radnom sffhlue\n"
     ]
    }
   ],
   "source": [
    "text = u\"вам потребуется модуль random и функции random seed и random shuffle\"\n",
    "print text_shuffle(text)\n",
    "print text_shuffle(text,10)\n",
    "print text_shuffle(text,20)\n",
    "print text_shuffle(text,10)\n",
    "\n",
    "\n",
    "text = \"вам потребуется модуль random и функции random seed и random shuffle\"\n",
    "print(\"\\nНа не юникодовских строчках модуль re с шаблоном unicode корректно находит только слова из английских букв, так как коды английских символов в unicode и ASCII совпадают:\")\n",
    "print text_shuffle(text)\n",
    "\n",
    "print(\"\\nПри строковом шаблоне с русскими буквами модуль re работает некорректно из-за ошибок определния символов в потоке байт:\")\n",
    "template = re.compile(\"[а-яА-Я]+|[a-zA-Z]+\")\n",
    "print \",\".join(re.findall(template,text))\n",
    "\n",
    "print(\"\\nПри перекодировке строки в unicode получается требуемый результат:\")\n",
    "print text_shuffle(text.decode('utf-8'))"
   ]
  },
  {
   "cell_type": "markdown",
   "metadata": {},
   "source": [
    "## Задание 3.2"
   ]
  },
  {
   "cell_type": "code",
   "execution_count": 580,
   "metadata": {
    "collapsed": false
   },
   "outputs": [],
   "source": [
    "def my_compare(a,b):\n",
    "    if a>b:\n",
    "        res = \"First\"\n",
    "    elif a<b:\n",
    "        res = \"Second\"\n",
    "    else:\n",
    "        res = \"Equal\"\n",
    "    return \"{} vs {} -> {}\\n\".format(a,b,res)\n",
    "\n",
    "def process(fst_source_path, snd_source_path, target_path):\n",
    "    \n",
    "    with open(fst_source_path, \"r\") as f1, open(snd_source_path, \"r\") as f2, open(target_path, \"w\") as fo:\n",
    "        lines1 = f1.xreadlines()\n",
    "        lines2 = f2.xreadlines()\n",
    "        \n",
    "        for x, y in itertools.izip_longest(lines1, lines2):\n",
    "            if x!= None:\n",
    "                x=x.strip()\n",
    "            if y!= None:\n",
    "                y=y.strip()\n",
    "                \n",
    "            fo.write(my_compare(x,y))\n",
    "            \n",
    "    return"
   ]
  },
  {
   "cell_type": "code",
   "execution_count": 581,
   "metadata": {
    "collapsed": false
   },
   "outputs": [
    {
     "name": "stdout",
     "output_type": "stream",
     "text": [
      "Ананас vs Томат -> Second\n",
      "Груша vs Груша -> Equal\n",
      "Виноград vs Огурец -> Second\n",
      "Яблоко vs None -> First\n",
      "\n"
     ]
    }
   ],
   "source": [
    "inputFile1 = \"file1.txt\"\n",
    "inputFile2 = \"file2.txt\"\n",
    "outputFile = os.path.join(\"3_2\", \"out.txt\")\n",
    "encoding = \"utf-8\"\n",
    "\n",
    "createFile(inputFile1,u\"\"\"Ананас\n",
    "Груша\n",
    "Виноград\n",
    "Яблоко\"\"\".encode(encoding) )\n",
    "\n",
    "createFile(inputFile2,u\"\"\"Томат\n",
    "Груша\n",
    "Огурец\"\"\".encode(encoding) )\n",
    "\n",
    "createFolder(outputFile)\n",
    "\n",
    "process(inputFile1, inputFile2, outputFile)\n",
    "\n",
    "with open(outputFile,\"r\") as f:\n",
    "    print(f.read().decode(encoding))\n",
    "    "
   ]
  }
 ],
 "metadata": {
  "kernelspec": {
   "display_name": "Python 2",
   "language": "python",
   "name": "python2"
  },
  "language_info": {
   "codemirror_mode": {
    "name": "ipython",
    "version": 2
   },
   "file_extension": ".py",
   "mimetype": "text/x-python",
   "name": "python",
   "nbconvert_exporter": "python",
   "pygments_lexer": "ipython2",
   "version": "2.7.13"
  }
 },
 "nbformat": 4,
 "nbformat_minor": 2
}
