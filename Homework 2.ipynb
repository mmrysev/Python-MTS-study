{
 "cells": [
  {
   "cell_type": "markdown",
   "metadata": {},
   "source": [
    "# Базовая часть"
   ]
  },
  {
   "cell_type": "code",
   "execution_count": 60,
   "metadata": {
    "collapsed": true
   },
   "outputs": [],
   "source": [
    "from datetime import datetime\n",
    "\n",
    "keyPhoneNum = \"Телефон абонента\"\n",
    "keyTime = 'Время'\n",
    "keyDate = 'Дата'\n",
    "keyMark = 'Оценка'\n",
    "keyPeriod = 'Длительность разговора (мин.)'\n",
    "keyComment = 'Комментарий'"
   ]
  },
  {
   "cell_type": "code",
   "execution_count": 82,
   "metadata": {
    "collapsed": true
   },
   "outputs": [],
   "source": [
    "reviews = [\"\"\"Телефон абонента: +7 916 000 00 01\n",
    "Время: 10:34\n",
    "Дата: 20.05.2017\n",
    "Оценка: 1\n",
    "Длительность разговора (мин.): 0:32\n",
    "Комментарий: Общение с сотрудником вашей техподдержки мне не понравилось. Раньше всегда отвечала девушка с приятным голосом, а сегодня какой-то мужчина. Совсем никуда не годится, примите меры!!!\"\"\",\n",
    "\"\"\"Телефон абонента: +7 916 000 00 02\n",
    "Время: 9:20\n",
    "Дата: 21.05.2017\n",
    "Оценка: 5\n",
    "Длительность разговора (мин.): 25:07\n",
    "Комментарий: С моей проблемой мне помогли, большое спасибо!\"\"\"]"
   ]
  },
  {
   "cell_type": "code",
   "execution_count": 62,
   "metadata": {
    "collapsed": true
   },
   "outputs": [],
   "source": [
    "#Парсинг одного текстового отзыва в словарь \n",
    "def parseReview(review):\n",
    "    reviewDict = dict()\n",
    "    \n",
    "    #парсинг одного обращения\n",
    "    for field in review.split(\"\\n\"):\n",
    "        #интересует только 1ое включение \":\"\n",
    "        i=field.find(\":\")\n",
    "        key=field[:i].strip()\n",
    "        value=field[i+1:].strip()\n",
    "        reviewDict[key]=value\n",
    "        \n",
    "    return reviewDict"
   ]
  },
  {
   "cell_type": "code",
   "execution_count": 63,
   "metadata": {
    "collapsed": true
   },
   "outputs": [],
   "source": [
    "#Добавление отзыва в формате словаря в словарь отзывов\n",
    "def insertToDict(reviewItem, dictResult):\n",
    "    if keyPhoneNum in reviewItem: \n",
    "        phoneNum = reviewItem[keyPhoneNum]\n",
    "        del reviewItem[keyPhoneNum]\n",
    "        dictResult[phoneNum]=reviewItem\n",
    "    "
   ]
  },
  {
   "cell_type": "code",
   "execution_count": 64,
   "metadata": {
    "collapsed": false
   },
   "outputs": [],
   "source": [
    "def printReview(reviewsAllDict):\n",
    "    for key, review in reviewsAllDict.items():\n",
    "        print keyPhoneNum, \": \", key\n",
    "        for key, value in review.items():\n",
    "            print key, \": \", value\n",
    "        print \"\\n\""
   ]
  },
  {
   "cell_type": "code",
   "execution_count": 65,
   "metadata": {
    "collapsed": false
   },
   "outputs": [
    {
     "name": "stdout",
     "output_type": "stream",
     "text": [
      "Телефон абонента :  +7 916 000 00 02\n",
      "Оценка :  5\n",
      "Время :  9:20\n",
      "Комментарий :  С моей проблемой мне помогли, большое спасибо!\n",
      "Длительность разговора (мин.) :  25:07\n",
      "Дата :  21.05.2017\n",
      "\n",
      "\n",
      "Телефон абонента :  +7 916 000 00 01\n",
      "Оценка :  1\n",
      "Время :  10:34\n",
      "Комментарий :  Общение с сотрудником вашей техподдержки мне не понравилось. Раньше всегда отвечала девушка с приятным голосом, а сегодня какой-то мужчина. Совсем никуда не годится, примите меры!!!\n",
      "Длительность разговора (мин.) :  0:32\n",
      "Дата :  20.05.2017\n",
      "\n",
      "\n"
     ]
    }
   ],
   "source": [
    "#формирование словаря отзывов из всех текстовых обращений\n",
    "\n",
    "reviewsAllDict = dict()\n",
    "\n",
    "for review in reviews:\n",
    "    reviewItem = parseReview(review)\n",
    "    insertToDict(reviewItem, reviewsAllDict)\n",
    "\n",
    "printReview(reviewsAllDict)"
   ]
  },
  {
   "cell_type": "markdown",
   "metadata": {},
   "source": [
    "# Продвинутая часть"
   ]
  },
  {
   "cell_type": "code",
   "execution_count": 83,
   "metadata": {
    "collapsed": false
   },
   "outputs": [],
   "source": [
    "#Добавление отзыва в формате словаря в словарь отзывов с форматированием\n",
    "def insertToDictFormat(reviewItem, dictResult):\n",
    "    if keyPhoneNum not in reviewItem: \n",
    "        print(\"ERROR, phone num is not defined for: \" + reviewItem)\n",
    "        return\n",
    "    \n",
    "    phoneNum = reviewItem[keyPhoneNum]\n",
    "    \n",
    "    #в новый словарь заносятся только значения с корректным номером телефона\n",
    "    try:\n",
    "        keyInt =int(phoneNum.replace(\" \",\"\"))\n",
    "        dictResult[keyInt] = dict()\n",
    "    except:\n",
    "        print(\"ERROR in phone number for: \" + phoneNum)\n",
    "    else:\n",
    "        reviewDict = dictResult[keyInt]\n",
    "        \n",
    "        #в словарь заносятся только те значения, который могут быть преобразованы к требуемому типу\n",
    "\n",
    "        try:    \n",
    "            time = reviewItem[keyTime]\n",
    "            date = reviewItem[keyDate]\n",
    "            dateTime = datetime.strptime(date + \" \" + time,'%d.%m.%Y %H:%M')\n",
    "            reviewDict[keyDate]=dateTime\n",
    "        except:\n",
    "            print(\"ERROR in date or time format for: \" + phoneNum)\n",
    "        \n",
    "        try:\n",
    "            mark = float(reviewItem[keyMark])\n",
    "            reviewDict[keyMark]=mark\n",
    "        except:\n",
    "            print(\"ERROR in mark format for: \" + phoneNum)\n",
    "        \n",
    "        try:\n",
    "            period = datetime.strptime(reviewItem[keyPeriod],'%M:%S')\n",
    "            reviewDict[keyPeriod]=(period.minute*60.0 + period.second)/60.0\n",
    "        except:\n",
    "            print(\"ERROR in perod format for: \" + phoneNum)\n",
    "        \n",
    "        if keyComment in reviewItem:\n",
    "            reviewDict[keyComment]=reviewItem[keyComment]"
   ]
  },
  {
   "cell_type": "code",
   "execution_count": 84,
   "metadata": {
    "collapsed": false
   },
   "outputs": [
    {
     "name": "stdout",
     "output_type": "stream",
     "text": [
      "Телефон абонента :  79160000001\n",
      "Оценка :  1.0\n",
      "Комментарий :  Общение с сотрудником вашей техподдержки мне не понравилось. Раньше всегда отвечала девушка с приятным голосом, а сегодня какой-то мужчина. Совсем никуда не годится, примите меры!!!\n",
      "Дата :  2017-05-20 10:34:00\n",
      "Длительность разговора (мин.) :  0.533333333333\n",
      "\n",
      "\n",
      "Телефон абонента :  79160000002\n",
      "Оценка :  5.0\n",
      "Комментарий :  С моей проблемой мне помогли, большое спасибо!\n",
      "Дата :  2017-05-21 09:20:00\n",
      "Длительность разговора (мин.) :  25.1166666667\n",
      "\n",
      "\n"
     ]
    }
   ],
   "source": [
    "#формирование словаря отзывов с переформатированием данных из всех текстовых обращений\n",
    "\n",
    "reviewsAllDictF = dict()\n",
    "\n",
    "for review in reviews:\n",
    "    review_item = parseReview(review)\n",
    "    insertToDictFormat(review_item, reviewsAllDictF)\n",
    "            \n",
    "printReview(reviewsAllDictF)"
   ]
  },
  {
   "cell_type": "code",
   "execution_count": 85,
   "metadata": {
    "collapsed": false
   },
   "outputs": [
    {
     "name": "stdout",
     "output_type": "stream",
     "text": [
      "Средняя оценка:  3.0\n",
      "Средняя длительность разговора (мин.):  12.825\n"
     ]
    }
   ],
   "source": [
    "#расчет средней оценки и средней продолжительности разговора\n",
    "avgMark = [y[keyMark] for x,y in reviewsAllDictF.items() if keyMark in y ]\n",
    "avgPeriod = [y[keyPeriod] for x,y in reviewsAllDictF.items() if keyPeriod in y ]\n",
    "print \"Средняя оценка: \", sum(avgMark)/len(avgMark)\n",
    "print \"Средняя длительность разговора (мин.): \", sum(avgPeriod)/len(avgPeriod)"
   ]
  },
  {
   "cell_type": "markdown",
   "metadata": {},
   "source": [
    "# Сложная часть"
   ]
  },
  {
   "cell_type": "code",
   "execution_count": 69,
   "metadata": {
    "collapsed": false
   },
   "outputs": [
    {
     "name": "stdout",
     "output_type": "stream",
     "text": [
      "{(1, 2, 'a'): 'Before', (1, 2, -1, 4): 'Changed', (1, 2, 'a', 4): 'Added', (2, -1, 4): 'Removed'}\n"
     ]
    }
   ],
   "source": [
    "dictRes = dict()\n",
    "\n",
    "t=(1,2,'a')\n",
    "dictRes[t]=\"Before\"\n",
    "\n",
    "#Добавление элементав в tuple\n",
    "t += (4,)\n",
    "dictRes[t]=\"Added\"\n",
    "\n",
    "#модификаци элемента\n",
    "t=list(t)\n",
    "t[2]=-1\n",
    "t=tuple(t)\n",
    "dictRes[t]=\"Changed\"\n",
    "\n",
    "#удаление элемента, срез\n",
    "t=tuple(t[1:])\n",
    "dictRes[t]=\"Removed\"\n",
    "\n",
    "print(dictRes)"
   ]
  }
 ],
 "metadata": {
  "kernelspec": {
   "display_name": "Python 2",
   "language": "python",
   "name": "python2"
  },
  "language_info": {
   "codemirror_mode": {
    "name": "ipython",
    "version": 2
   },
   "file_extension": ".py",
   "mimetype": "text/x-python",
   "name": "python",
   "nbconvert_exporter": "python",
   "pygments_lexer": "ipython2",
   "version": "2.7.13"
  }
 },
 "nbformat": 4,
 "nbformat_minor": 2
}
